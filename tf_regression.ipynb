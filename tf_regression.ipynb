{
  "nbformat": 4,
  "nbformat_minor": 0,
  "metadata": {
    "colab": {
      "name": "tf-regression.ipynb",
      "provenance": []
    },
    "kernelspec": {
      "name": "python3",
      "display_name": "Python 3"
    },
    "language_info": {
      "name": "python"
    }
  },
  "cells": [
    {
      "cell_type": "markdown",
      "source": [
        "##Chapter 3 Regression\n"
      ],
      "metadata": {
        "id": "4HiZEWBc9hKy"
      }
    },
    {
      "cell_type": "code",
      "source": [
        "import tensorflow as tf"
      ],
      "metadata": {
        "id": "gSeifCCe9jrX"
      },
      "execution_count": null,
      "outputs": []
    },
    {
      "cell_type": "code",
      "source": [
        "#set number of observations and samples\n",
        "S = 100\n",
        "N = 10000"
      ],
      "metadata": {
        "id": "V3LMwvDF9-ki"
      },
      "execution_count": null,
      "outputs": []
    },
    {
      "cell_type": "code",
      "source": [
        "#set true values of parameters\n",
        "alpha = tf.constant([1.],tf.float32)\n",
        "beta = tf.constant([3.],tf.float32)"
      ],
      "metadata": {
        "id": "FtvA6aKY-Ila"
      },
      "execution_count": null,
      "outputs": []
    },
    {
      "cell_type": "code",
      "source": [
        "print(alpha)"
      ],
      "metadata": {
        "colab": {
          "base_uri": "https://localhost:8080/"
        },
        "id": "ykzB1jfU-Xsl",
        "outputId": "771b99e2-ac66-4c63-d019-a508e2518a4e"
      },
      "execution_count": null,
      "outputs": [
        {
          "output_type": "stream",
          "name": "stdout",
          "text": [
            "tf.Tensor([1.], shape=(1,), dtype=float32)\n"
          ]
        }
      ]
    },
    {
      "cell_type": "code",
      "source": [
        "#draw indepentent var and error\n",
        "X = tf.random.normal([N,S])\n",
        "epsilon = tf.random.normal([N,S],stddev=0.25)"
      ],
      "metadata": {
        "id": "0cA9SSMt-ZFu"
      },
      "execution_count": null,
      "outputs": []
    },
    {
      "cell_type": "code",
      "source": [
        "#compute the dependent var\n",
        "Y = alpha + beta*X + epsilon"
      ],
      "metadata": {
        "id": "d-hln3kJ-6vK"
      },
      "execution_count": null,
      "outputs": []
    },
    {
      "cell_type": "code",
      "source": [
        "#draw initial values randomly\n",
        "alphaHat0 = tf.random.normal([1],stddev=5.0)\n",
        "betaHat0 = tf.random.normal([1],stddev=5.0)\n",
        "\n"
      ],
      "metadata": {
        "id": "HyWfRUtF_ayH"
      },
      "execution_count": null,
      "outputs": []
    },
    {
      "cell_type": "code",
      "source": [
        "alphaHat0"
      ],
      "metadata": {
        "colab": {
          "base_uri": "https://localhost:8080/"
        },
        "id": "cuaB_fm1AL5O",
        "outputId": "9b1744c3-2cba-4cba-d923-55f0cd5e264e"
      },
      "execution_count": null,
      "outputs": [
        {
          "output_type": "execute_result",
          "data": {
            "text/plain": [
              "<tf.Tensor: shape=(1,), dtype=float32, numpy=array([-4.67004], dtype=float32)>"
            ]
          },
          "metadata": {},
          "execution_count": 30
        }
      ]
    },
    {
      "cell_type": "code",
      "source": [
        "alphaHat = tf.Variable(alphaHat0,tf.float32)\n",
        "betaHat = tf.Variable(betaHat0, tf.float32)\n",
        "\n",
        "#define func to compute MAE Loss\n",
        "def maeLoss(alphaHat,betaHat,xSample,ySample):\n",
        "  prediction = alphaHat + betaHat*xSample\n",
        "  error = ySample - prediction\n",
        "  absError = tf.abs(error)\n",
        "  return tf.reduce_mean(absError)"
      ],
      "metadata": {
        "id": "e51L9G5qAOBc"
      },
      "execution_count": null,
      "outputs": []
    },
    {
      "cell_type": "code",
      "source": [
        "# Define optimizer.\n",
        "opt = tf.optimizers.SGD()\n",
        "\n",
        "# Define empty lists to hold parameter values.\n",
        "alphaHist, betaHist = [], []\n",
        "\n",
        "# Perform minimization and retain parameter updates.\n",
        "for j in range(1000):\n",
        "\n",
        "# Perform minimization step.\n",
        "\topt.minimize(lambda: maeLoss(alphaHat, betaHat,\n",
        "\tX[:,0], Y[:,0]), var_list = [alphaHat, \n",
        "betaHat])\n",
        "\n",
        "# Update list of parameters.\n",
        "\talphaHist.append(alphaHat.numpy()[0])\n",
        "\tbetaHist.append(betaHat.numpy()[0])\n",
        "\n",
        "\n"
      ],
      "metadata": {
        "id": "cPcejYIXA_Zu"
      },
      "execution_count": null,
      "outputs": []
    },
    {
      "cell_type": "code",
      "source": [
        "# ------------------------------------------------------------\n",
        "# Listing 3-5. Plot the parameter training histories.\n",
        "# ------------------------------------------------------------\n",
        "import matplotlib.pyplot as plt\n",
        "import numpy as np\n",
        "import pandas as pd\n",
        "\n",
        "# Define DataFrame of parameter histories.\n",
        "params = pd.DataFrame(alphaHist)\n",
        "paramsBeta = pd.DataFrame(betaHist)\n",
        "# Generate plot.\n",
        "params.plot(figsize=(10,7))\n",
        "paramsBeta.plot(figsize=(10,7))\n",
        "\n",
        "# Set x axis label.\n",
        "plt.xlabel('Epoch')\n",
        "\n",
        "# Set y axis label.\n",
        "plt.ylabel('Parameter Value')\n"
      ],
      "metadata": {
        "colab": {
          "base_uri": "https://localhost:8080/",
          "height": 870
        },
        "id": "9SJMUVkRCDzt",
        "outputId": "91f3bd8f-26f3-4282-c039-b9eda1fea919"
      },
      "execution_count": null,
      "outputs": [
        {
          "output_type": "execute_result",
          "data": {
            "text/plain": [
              "Text(0, 0.5, 'Parameter Value')"
            ]
          },
          "metadata": {},
          "execution_count": 53
        },
        {
          "output_type": "display_data",
          "data": {
            "image/png": "[encoded data removed]",
            "text/plain": [
              "<Figure size 720x504 with 1 Axes>"
            ]
          },
          "metadata": {
            "needs_background": "light"
          }
        },
        {
          "output_type": "display_data",
          "data": {
            "image/png": "[encoded data removed]",
            "text/plain": [
              "<Figure size 720x504 with 1 Axes>"
            ]
          },
          "metadata": {
            "needs_background": "light"
          }
        }
      ]
    },
    {
      "cell_type": "code",
      "source": [
        "alphaHist.shape"
      ],
      "metadata": {
        "colab": {
          "base_uri": "https://localhost:8080/",
          "height": 166
        },
        "id": "enCGO3h0CGg4",
        "outputId": "1fbdb224-d390-4ca5-8b34-48ebabc869c5"
      },
      "execution_count": null,
      "outputs": [
        {
          "output_type": "error",
          "ename": "AttributeError",
          "evalue": "ignored",
          "traceback": [
            "\u001b[0;31m---------------------------------------------------------------------------\u001b[0m",
            "\u001b[0;31mAttributeError\u001b[0m                            Traceback (most recent call last)",
            "\u001b[0;32m<ipython-input-37-429cf2b90837>\u001b[0m in \u001b[0;36m<module>\u001b[0;34m()\u001b[0m\n\u001b[0;32m----> 1\u001b[0;31m \u001b[0malphaHist\u001b[0m\u001b[0;34m.\u001b[0m\u001b[0mshape\u001b[0m\u001b[0;34m\u001b[0m\u001b[0;34m\u001b[0m\u001b[0m\n\u001b[0m",
            "\u001b[0;31mAttributeError\u001b[0m: 'list' object has no attribute 'shape'"
          ]
        }
      ]
    },
    {
      "cell_type": "code",
      "source": [
        "len(alphaHist)"
      ],
      "metadata": {
        "colab": {
          "base_uri": "https://localhost:8080/"
        },
        "id": "7pwrfy1uDbka",
        "outputId": "d8efba76-8246-4a6b-f760-ee878661ff18"
      },
      "execution_count": null,
      "outputs": [
        {
          "output_type": "execute_result",
          "data": {
            "text/plain": [
              "1000"
            ]
          },
          "metadata": {},
          "execution_count": 38
        }
      ]
    },
    {
      "cell_type": "code",
      "source": [
        "len(betaHist)"
      ],
      "metadata": {
        "colab": {
          "base_uri": "https://localhost:8080/"
        },
        "id": "aoBg4c9REdPj",
        "outputId": "2845e693-e05d-4285-bda7-a3533d10a096"
      },
      "execution_count": null,
      "outputs": [
        {
          "output_type": "execute_result",
          "data": {
            "text/plain": [
              "1000"
            ]
          },
          "metadata": {},
          "execution_count": 39
        }
      ]
    },
    {
      "cell_type": "code",
      "source": [
        ""
      ],
      "metadata": {
        "id": "7szNnTm-Eexa"
      },
      "execution_count": null,
      "outputs": []
    }
  ]
}